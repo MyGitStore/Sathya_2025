{
 "cells": [
  {
   "cell_type": "raw",
   "metadata": {
    "vscode": {
     "languageId": "raw"
    }
   },
   "source": [
    "---\n",
    "layout: post\n",
    "title: First Notebook\n",
    "description: My first notebook!\n",
    "permalink: /first/\n",
    "categories: [Foundation]\n",
    "---"
   ]
  },
  {
   "cell_type": "markdown",
   "metadata": {},
   "source": [
    "## Boolean\n",
    "# Boolean Logic: Understanding True and False\n",
    "-Nora\n",
    "-Amal\n",
    "-jeongjun\n",
    "\n",
    "Table of Contents\n",
    "Introduction to JavaScript\n",
    "Understanding Boolean Values\n",
    "Boolean Operators\n",
    "Conditional Statements\n",
    "Exercises\n",
    "Real-World Applications\n",
    "Summary and Reflection\n",
    "\n",
    "Introduction to JavaScript\n",
    "Definition:\n",
    "JavaScript is a programming language used to create interactive effects within web browsers.\n",
    "\n",
    "Example:\n",
    "let isStudent = true; // Boolean variable\n",
    "let hasGraduated = false;\n",
    "\n",
    "\n",
    "Definition of Boolean:\n",
    "A data type that can hold one of two values: true or false.\n",
    "\n",
    "Boolean Operators\n",
    "AND Operator (&&):\n",
    "\n",
    "Returns true if both operands are true.\n"
   ]
  },
  {
   "cell_type": "code",
   "execution_count": null,
   "metadata": {
    "vscode": {
     "languageId": "html"
    }
   },
   "outputs": [
    {
     "data": {
      "text/html": [
       "<p id = \"num\"> </p>\n",
       "<script>\n",
       "    function run() {\n",
       "    let a = true;\n",
       "    let b = false;\n",
       "    console.log(a && b); // Outputs: false\n",
       "    document.getElementById('num').innerhtml = \"True\";\n",
       "    }\n",
       "    run();\n",
       "</script>\n"
      ],
      "text/plain": [
       "<IPython.core.display.HTML object>"
      ]
     },
     "metadata": {},
     "output_type": "display_data"
    }
   ],
   "source": [
    "%%HTML\n",
    "<p id = \"num\"> </p>\n",
    "<script>\n",
    "    function run() {\n",
    "        let a = true;\n",
    "        let b = false;\n",
    "        console.log(a && b); // Outputs: false\n",
    "        document.getElementById(\"num\").innerHTML = \"True\";\n",
    "    }\n",
    "    run();\n",
    "</script>\n"
   ]
  },
  {
   "cell_type": "markdown",
   "metadata": {},
   "source": [
    "OR Operator (||):\n",
    "\n",
    "Returns true if at least one operand is true.\n",
    "\n",
    "Example\n",
    "\n",
    "let c = true;\n",
    "let d = false;\n",
    "console.log(c || d); // Outputs: true\n"
   ]
  },
  {
   "cell_type": "markdown",
   "metadata": {},
   "source": [
    "NOT Operator (!):\n",
    "\n",
    "Reverses the boolean value.\n",
    "\n",
    "let e = true;\n",
    "console.log(!e); // Outputs: false\n"
   ]
  },
  {
   "cell_type": "markdown",
   "metadata": {},
   "source": [
    "Boolean logic is essential in coding projects, as it allows developers to create conditions and control the flow of their programs.\n",
    "in game development, Boolean logic can be employed to manage player actions, such as whether a player can attack an enemy based on their current health status or if a level has been completed. By leveraging Boolean operators like AND, OR, and NOT, programmers can efficiently evaluate multiple conditions and implement complex decision-making processes, enhancing functionality and interactivity in their applications."
   ]
  },
  {
   "cell_type": "code",
   "execution_count": 23,
   "metadata": {
    "vscode": {
     "languageId": "javascript"
    }
   },
   "outputs": [
    {
     "data": {
      "application/javascript": "\n// Function to check if a number is even or odd\nfunction checkEvenOdd() {\n    // Prompt the user for a number\n    let number = parseInt(prompt(\"Enter a number:\"));\n\n    // Check if the number is even or odd\n    if (number % 2 === 0) {\n        console.log(\"The number \" + number + \" is even.\");\n    } else {\n        console.log(\"The number \" + number + \" is odd.\");\n    }\n}\n\n// Call the function\ncheckEvenOdd();\n",
      "text/plain": [
       "<IPython.core.display.Javascript object>"
      ]
     },
     "metadata": {},
     "output_type": "display_data"
    }
   ],
   "source": [
    "%%js\n",
    "\n",
    "// Function to check if a number is even or odd\n",
    "function checkEvenOdd() {\n",
    "    // Prompt the user for a number\n",
    "    let number = parseInt(prompt(\"Enter a number:\"));\n",
    "\n",
    "    // Check if the number is even or odd\n",
    "    if (number % 2 === 0) {\n",
    "        console.log(\"The number \" + number + \" is even.\");\n",
    "    } else {\n",
    "        console.log(\"The number \" + number + \" is odd.\");\n",
    "    }\n",
    "}\n",
    "\n",
    "// Call the function\n",
    "checkEvenOdd();\n"
   ]
  }
 ],
 "metadata": {
  "kernelspec": {
   "display_name": "Python 3",
   "language": "python",
   "name": "python3"
  },
  "language_info": {
   "codemirror_mode": {
    "name": "ipython",
    "version": 3
   },
   "file_extension": ".py",
   "mimetype": "text/x-python",
   "name": "python",
   "nbconvert_exporter": "python",
   "pygments_lexer": "ipython3",
   "version": "3.12.3"
  }
 },
 "nbformat": 4,
 "nbformat_minor": 2
}
