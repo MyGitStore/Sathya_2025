{
 "cells": [
  {
   "cell_type": "markdown",
   "metadata": {},
   "source": [
    "<span style=\"color: lavender; text-shadow: 2px 2px 5px lavender;\">Boolean Homework (Show what you know!) </span>\n",
    "\n",
    "Homework Problem: Understanding JavaScript Boolean Variables\n",
    "<span style=\"color: pink; text-shadow: 2px 2px 5px pink;\"> Creating Boolean Variables</span>\n",
    "Create two boolean variables:\n",
    "\n",
    "A variable called hasDrivingLicense that indicates whether you have a driving license (use true or false).\n",
    "A variable called isEmployed that indicates whether you are currently employed (use true or false).\n",
    "Create a function variable that checks eligibility:\n",
    "\n",
    "Create a function called checkEligibility that logs a message based on the values of hasDrivingLicense and isEmployed.\n",
    "If both are true, log: \"You are eligible for the job!\"\n",
    "If either is false, log: \"You need to meet all requirements.\"\n",
    "Using the variables you created, write a sentence using console.log() to display:\n",
    "\n",
    "Whether you have a driving license.\n",
    "Whether you are employed.\n",
    "Call the checkEligibility function to display your eligibility status."
   ]
  }
 ],
 "metadata": {
  "language_info": {
   "name": "python"
  }
 },
 "nbformat": 4,
 "nbformat_minor": 2
}
